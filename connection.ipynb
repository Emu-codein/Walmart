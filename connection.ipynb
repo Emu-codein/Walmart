{
 "cells": [
  {
   "cell_type": "code",
   "execution_count": 88,
   "metadata": {},
   "outputs": [],
   "source": [
    "import psycopg2\n",
    "import pandas as pd\n",
    "from sqlalchemy import create_engine, text\n",
    "from sqlalchemy.types import String, Numeric, Integer, Float, Date, DateTime"
   ]
  },
  {
   "cell_type": "code",
   "execution_count": 73,
   "metadata": {},
   "outputs": [],
   "source": [
    "# Define the database connection parameters\n",
    "db_params = {\n",
    "    'host': 'localhost',\n",
    "    'database': 'aymanahmed',\n",
    "    'user': 'aymanahmed',\n",
    "    'password': 'admin'\n",
    "}"
   ]
  },
  {
   "cell_type": "code",
   "execution_count": 57,
   "metadata": {},
   "outputs": [],
   "source": [
    "# Create a connection to the PostgreSQL server\n",
    "conn = psycopg2.connect(\n",
    "    host=db_params['host'],\n",
    "    database=db_params['database'],\n",
    "    user=db_params['user'],\n",
    "    password=db_params['password']\n",
    ")\n",
    "\n",
    "# Create a cursor object\n",
    "cur = conn.cursor()\n",
    "\n",
    "# Set automatic commit to be true, so that each action is committed without having to call conn.committ() after each command\n",
    "conn.set_session(autocommit=True)\n",
    "\n",
    "# Create the 'soccer' database\n",
    "cur.execute(\"CREATE DATABASE walmart\")\n",
    "\n",
    "# Commit the changes and close the connection to the default database\n",
    "conn.commit()\n",
    "cur.close()\n",
    "conn.close()"
   ]
  },
  {
   "cell_type": "markdown",
   "metadata": {},
   "source": [
    "# Connect to the 'famouspainting' database\n",
    "db_params['database'] = 'walmart'\n",
    "engine = create_engine(f'postgresql://{db_params[\"user\"]}:{db_params[\"password\"]}@{db_params[\"host\"]}/{db_params[\"database\"]}')\n",
    "\n",
    "# Define the file paths for your CSV files\n",
    "csv_files = {\n",
    "    'sales': '/Users/aymanahmed/Documents/Data Science Projects/SQL/Walmart/WalmartSalesData.csv'\n",
    "}\n",
    "\n",
    "# Load and display the contents of each CSV file to check\n",
    "for table_name, file_path in csv_files.items():\n",
    "    print(f\"Contents of '{table_name}' CSV file:\")\n",
    "    df = pd.read_csv(file_path)\n",
    "    print(df.head(2))  # Display the first few rows of the DataFrame\n",
    "    print(\"\\n\")"
   ]
  },
  {
   "cell_type": "code",
   "execution_count": 89,
   "metadata": {},
   "outputs": [],
   "source": [
    "# Connect to the 'famouspainting' database\n",
    "db_params['database'] = 'walmart'\n",
    "engine = create_engine(f'postgresql://{db_params[\"user\"]}:{db_params[\"password\"]}@{db_params[\"host\"]}/{db_params[\"database\"]}')\n",
    "\n",
    "df =pd.read_csv('/Users/aymanahmed/Documents/Data Science Projects/SQL/Walmart/WalmartSalesData.csv')"
   ]
  },
  {
   "cell_type": "code",
   "execution_count": 90,
   "metadata": {},
   "outputs": [
    {
     "name": "stdout",
     "output_type": "stream",
     "text": [
      "Invoice ID                 0\n",
      "Branch                     0\n",
      "City                       0\n",
      "Customer type              0\n",
      "Gender                     0\n",
      "Product line               0\n",
      "Unit price                 0\n",
      "Quantity                   0\n",
      "Tax 5%                     0\n",
      "Total                      0\n",
      "Date                       0\n",
      "Time                       0\n",
      "Payment                    0\n",
      "cogs                       0\n",
      "gross margin percentage    0\n",
      "gross income               0\n",
      "Rating                     0\n",
      "dtype: int64\n"
     ]
    }
   ],
   "source": [
    "print(df.isnull().sum())"
   ]
  },
  {
   "cell_type": "code",
   "execution_count": 91,
   "metadata": {},
   "outputs": [],
   "source": [
    "# Specifying SQLAlchemy types\n",
    "dtype = {\n",
    "    'invoice_id': String(30),\n",
    "    'branch': String(5),\n",
    "    'city': String(30),\n",
    "    'customer_type': String(30),\n",
    "    'gender': String(10),\n",
    "    'product_line': String(100),\n",
    "    'unit_price': Numeric(10, 2),\n",
    "    'quantity': Integer(),\n",
    "    'VAT': Float(6, 4),\n",
    "    'total': Numeric(10, 2),\n",
    "    'date': Date(),\n",
    "    'time': DateTime(),\n",
    "    'payment_method': Numeric(10, 2),\n",
    "    'cogs': Numeric(10, 2),\n",
    "    'gross_margin_percentage': Float(11, 9),\n",
    "    'gross_income': Numeric(10, 2),\n",
    "    'rating': Float(2, 1)\n",
    "}"
   ]
  },
  {
   "cell_type": "code",
   "execution_count": 92,
   "metadata": {},
   "outputs": [
    {
     "name": "stdout",
     "output_type": "stream",
     "text": [
      "Invoice ID                  object\n",
      "Branch                      object\n",
      "City                        object\n",
      "Customer type               object\n",
      "Gender                      object\n",
      "Product line                object\n",
      "Unit price                 float64\n",
      "Quantity                     int64\n",
      "Tax 5%                     float64\n",
      "Total                      float64\n",
      "Date                        object\n",
      "Time                        object\n",
      "Payment                     object\n",
      "cogs                       float64\n",
      "gross margin percentage    float64\n",
      "gross income               float64\n",
      "Rating                     float64\n",
      "dtype: object\n"
     ]
    }
   ],
   "source": [
    "print(df.dtypes)"
   ]
  },
  {
   "cell_type": "code",
   "execution_count": 59,
   "metadata": {},
   "outputs": [],
   "source": [
    "# Loop through the CSV files and import them into PostgreSQL\n",
    "for table_name, file_path in csv_files.items():\n",
    "    df = pd.read_csv(file_path)\n",
    "    df.to_sql(table_name, engine, if_exists='replace', index=False, dtype=dtype)"
   ]
  },
  {
   "cell_type": "code",
   "execution_count": 93,
   "metadata": {},
   "outputs": [
    {
     "data": {
      "text/plain": [
       "1000"
      ]
     },
     "execution_count": 93,
     "metadata": {},
     "output_type": "execute_result"
    }
   ],
   "source": [
    "# Import data to the SQL database\n",
    "df.to_sql('sales_data', con=engine, if_exists='append', index=False, dtype=dtype)"
   ]
  }
 ],
 "metadata": {
  "kernelspec": {
   "display_name": "Python 3",
   "language": "python",
   "name": "python3"
  },
  "language_info": {
   "codemirror_mode": {
    "name": "ipython",
    "version": 3
   },
   "file_extension": ".py",
   "mimetype": "text/x-python",
   "name": "python",
   "nbconvert_exporter": "python",
   "pygments_lexer": "ipython3",
   "version": "3.11.1"
  }
 },
 "nbformat": 4,
 "nbformat_minor": 2
}
